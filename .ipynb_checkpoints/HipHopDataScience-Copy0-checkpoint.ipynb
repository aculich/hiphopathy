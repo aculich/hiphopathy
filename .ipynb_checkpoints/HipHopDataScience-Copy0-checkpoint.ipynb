{
 "metadata": {
  "name": "",
  "signature": "sha256:fc5dedc4627e7eae40b468e93190061cfb4473031daf76fc47b7723a697f68a6"
 },
 "nbformat": 3,
 "nbformat_minor": 0,
 "worksheets": [
  {
   "cells": [
    {
     "cell_type": "heading",
     "level": 1,
     "metadata": {},
     "source": [
      "    Introduction to Besides Blocks Data Science Lab using Hip-Hop Lyrics"
     ]
    },
    {
     "cell_type": "markdown",
     "metadata": {},
     "source": [
      "Previously in <i>Snap!</i> we have been used to programming with sprites. We will do something similar to help bridge your understanding of how computational thinking can be realized either in <i>Snap!</i> or python.\n",
      "\n",
      "Now let's start with some basics of python using something we are already familiar with turtle graphics. Remember in <i>Snap!</i>, we had our sprite, and the sprite could move around the stage. We can do the same thing with python. To do this, lets start by importing the turtle package. But before we do that, we need to make sure that we are using the right version of python. For this class, the good folks at Beauty and Joy of Computing have decided that we should stick with python3.\n"
     ]
    },
    {
     "cell_type": "code",
     "collapsed": false,
     "input": [
      "import turtle\n",
      "wn = turtle.Screen()        # creates a graphics window"
     ],
     "language": "python",
     "metadata": {},
     "outputs": [],
     "prompt_number": 1
    },
    {
     "cell_type": "markdown",
     "metadata": {},
     "source": [
      "The python code brings in the turtle graphics package by using the keyword \"import.\" The turtle package is made up of a series of functions that allows the user to move a cybernetic turtle around in space. Very similar to alonzo in our <i>Snap!</i> environment."
     ]
    },
    {
     "cell_type": "code",
     "collapsed": false,
     "input": [
      "alonzo = turtle.Turtle()      # create a turtle named alonzo\n",
      "alonzo.forward(150)           # tell alex to move forward by 150 units\n",
      "alonzo.left(90)               # turn by 90 degrees\n",
      "alonzo.forward(75)"
     ],
     "language": "python",
     "metadata": {},
     "outputs": [],
     "prompt_number": 2
    },
    {
     "cell_type": "markdown",
     "metadata": {},
     "source": [
      "You should see something like this in your window. <img src=\"images/image1.png\"> \n",
      "Now lets see if you can make a square ....\n"
     ]
    },
    {
     "cell_type": "code",
     "collapsed": false,
     "input": [
      "alonzo.forward(150)           # tell alonzo to move forward by 150 units\n",
      "alonzo.left(90)               # turn by 90 degrees\n",
      "alonzo.forward(150) \n",
      "alonzo.left(90)\n",
      "alonzo.forward(90)\n",
      "alonzo.shape(\"turtle\") # throwing this piece of code in there, changes the shape of the sprite"
     ],
     "language": "python",
     "metadata": {},
     "outputs": [],
     "prompt_number": 3
    },
    {
     "cell_type": "markdown",
     "metadata": {},
     "source": [
      "<img src=\"images/image2.png\">\n",
      "Oops, I realize I need to clear my screen, but I don't know how to do it. Not to worry, we can learn all about all the functions that are associated with the python turtle package by typing \"Python Turtle Graphics.\" It should lead us to the python documentation found here https://docs.python.org/2/library/turtle.html. You should see something like the following below."
     ]
    },
    {
     "cell_type": "code",
     "collapsed": false,
     "input": [
      "from IPython.display import HTML\n",
      "HTML('<iframe src=https://docs.python.org/3.2/library/turtle.html width=800 height=500></iframe>')"
     ],
     "language": "python",
     "metadata": {},
     "outputs": [
      {
       "html": [
        "<iframe src=https://docs.python.org/3.2/library/turtle.html width=800 height=500></iframe>"
       ],
       "metadata": {},
       "output_type": "pyout",
       "prompt_number": 5,
       "text": [
        "<IPython.core.display.HTML at 0x1048fc050>"
       ]
      }
     ],
     "prompt_number": 5
    },
    {
     "cell_type": "markdown",
     "metadata": {},
     "source": [
      "Ah, once I scroll down the page, I see there is a clear() command. Now I can clear my screen, and start all over again with making the square.\n"
     ]
    },
    {
     "cell_type": "code",
     "collapsed": false,
     "input": [
      "alonzo.clear()                # clear my screen\n",
      "alonzo.shape(\"turtle\")        # make the shape of a turtle\n",
      "alonzo.forward(150)           # tell alonzo to move forward by 150 units\n",
      "alonzo.left(90)               # turn by 90 degrees\n",
      "alonzo.forward(150) \n",
      "alonzo.left(90)\n",
      "alonzo.forward(150)\n",
      "alonzo.left(90)\n",
      "alonzo.forward(150)"
     ],
     "language": "python",
     "metadata": {},
     "outputs": [],
     "prompt_number": 6
    },
    {
     "cell_type": "markdown",
     "metadata": {},
     "source": [
      "<img src=\"images/image3.png\">\n",
      "There we go. Now lets optimize the code by putting it into a for loop. If you have forgotten what that statement is, just google \"python for loops\" and you should be ready to go.\n"
     ]
    },
    {
     "cell_type": "code",
     "collapsed": false,
     "input": [
      "alonzo.clear()                # clear my screen\n",
      "alonzo.shape(\"turtle\")        # make the shape of a turtle\n",
      "for x in range (0, 4):\n",
      "    alonzo.forward(150)           # tell alonzo to move forward by 150 units\n",
      "    alonzo.left(90)               # turn by 90 degrees"
     ],
     "language": "python",
     "metadata": {},
     "outputs": [],
     "prompt_number": 7
    },
    {
     "cell_type": "markdown",
     "metadata": {},
     "source": [
      "Now that we have done that, lets make a more interesting visualization before we move on to more complex stuff. Lets make a fun starburst using turtle graphics. The code is included below. You should get an image like the one below. <img src=\"images/image4.png\">\n"
     ]
    },
    {
     "cell_type": "code",
     "collapsed": false,
     "input": [
      "from turtle import *\n",
      "clear()\n",
      "shape(\"turtle\")\n",
      "color('blue', 'yellow')\n",
      "begin_fill()\n",
      "while True:\n",
      "    forward(200)\n",
      "    left(170)\n",
      "    if abs(pos()) < 1:\n",
      "        break\n",
      "end_fill()\n",
      "\n"
     ],
     "language": "python",
     "metadata": {},
     "outputs": []
    },
    {
     "cell_type": "heading",
     "level": 2,
     "metadata": {},
     "source": [
      "Challenge time!"
     ]
    },
    {
     "cell_type": "markdown",
     "metadata": {},
     "source": [
      "1) A more advanced block we made in Snap! was this block. Can you write the same block in Python?\n",
      "<img src=\"images/SnapLeaf.png\"  height=\"60\" width=\"200\"> \n",
      "\n",
      "\n",
      "2) Ready for an even greater challenge? Surprise - you can do recursion in Python too! Use the same ideas we used to make fractals in <i>Snap!</i> to build one in Python!"
     ]
    },
    {
     "cell_type": "markdown",
     "metadata": {},
     "source": [
      "By the way, did you know that the guy who help invent the field of Artificial Intelligence created Turtle Graphics? His name is Seymour Papert and he has the most delighful book on computational thinking called <i>Mindstorms, Children, Computers and Powerful Ideas</i>. You can read it free on the web.\n",
      "\n",
      "Now that you have seen how we can do some basic graphics in python, we should move to something more compelling, data in python. This should be fun.\n"
     ]
    }
   ],
   "metadata": {}
  }
 ]
}